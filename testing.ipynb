{
  "nbformat": 4,
  "nbformat_minor": 0,
  "metadata": {
    "colab": {
      "name": "testing.ipynb",
      "provenance": []
    },
    "kernelspec": {
      "name": "python3",
      "display_name": "Python 3"
    },
    "accelerator": "GPU"
  },
  "cells": [
    {
      "cell_type": "code",
      "metadata": {
        "id": "5GWabVHa13dB",
        "colab_type": "code",
        "colab": {}
      },
      "source": [
        "! unzip \"val.zip\""
      ],
      "execution_count": 0,
      "outputs": []
    },
    {
      "cell_type": "markdown",
      "metadata": {
        "id": "JfWfG505zhon",
        "colab_type": "text"
      },
      "source": [
        "test images path"
      ]
    },
    {
      "cell_type": "code",
      "metadata": {
        "id": "wIifOwnkyyfY",
        "colab_type": "code",
        "outputId": "33f0c73d-0be3-4981-8b4e-362bbc6bd83d",
        "colab": {
          "base_uri": "https://localhost:8080/",
          "height": 55
        }
      },
      "source": [
        "from glob import glob\n",
        "import os\n",
        "path_to_test = 'val'\n",
        "#os.chdir(path_to_train)\n",
        "glob_test_imgs = os.path.join(path_to_test, '*_sat.jpg')\n",
        "\n",
        "test_img_paths = glob(glob_test_imgs)\n",
        "print(test_img_paths[:10])"
      ],
      "execution_count": 0,
      "outputs": [
        {
          "output_type": "stream",
          "text": [
            "['val/78955_sat.jpg', 'val/75796_sat.jpg', 'val/68851_sat.jpg', 'val/74584_sat.jpg', 'val/71464_sat.jpg', 'val/76195_sat.jpg', 'val/70521_sat.jpg', 'val/72519_sat.jpg', 'val/73613_sat.jpg', 'val/77838_sat.jpg']\n"
          ],
          "name": "stdout"
        }
      ]
    },
    {
      "cell_type": "code",
      "metadata": {
        "id": "czBKytwFzW_t",
        "colab_type": "code",
        "outputId": "4ff2fa99-8a0a-40c5-b028-0a03e887ccbc",
        "colab": {
          "base_uri": "https://localhost:8080/",
          "height": 35
        }
      },
      "source": [
        "def get_img_id(img_path):\n",
        "    img_basename = os.path.basename(img_path)\n",
        "    img_id = os.path.splitext(img_basename)[0][:-len('_sat')]\n",
        "    return img_id\n",
        "  \n",
        "import keras.backend as K\n",
        "from keras.optimizers import Adam\n",
        "from keras.losses import binary_crossentropy\n",
        "import tensorflow as tf\n",
        "\n",
        "\n",
        "smooth = 1e-9\n",
        "\n",
        "# This is the competition metric implemented using Keras\n",
        "\n",
        "\n",
        "def dice_coef(y_true, y_pred):\n",
        "    y_true_f = K.cast(K.flatten(y_true), 'float32')\n",
        "    y_pred = K.cast(y_pred, 'float32')\n",
        "    y_pred_f = K.cast(K.greater(K.flatten(y_pred), 0.5), 'float32')\n",
        "    intersection = y_true_f * y_pred_f\n",
        "    score = 2. * (K.sum(intersection) + smooth) / (K.sum(y_true_f) + K.sum(y_pred_f) + smooth)\n",
        "    return score\n",
        "\n",
        "# We'll construct a Keras Loss that incorporates the DICE score\n",
        "def dice_loss(y_true, y_pred):\n",
        "    y_true_f = K.flatten(y_true)\n",
        "    y_pred_f = K.flatten(y_pred)\n",
        "    intersection = K.sum(y_true_f * y_pred_f)\n",
        "    return 1. - (2. * intersection + 1.) / (K.sum(y_true_f) + K.sum(y_pred_f) + 1.)\n",
        "\n",
        "def bce_dice_loss(y_true, y_pred):\n",
        "    return  0.5*binary_crossentropy(y_true, y_pred) + 0.5*dice_loss(y_true, y_pred)\n",
        "  \n",
        "def more_loss(y_true, y_pred):\n",
        "    return 2*bce_dice_loss(y_true, y_pred)\n",
        "  \n",
        "def own_loss(y_true, y_pred):\n",
        "    y_true_f = K.cast(K.flatten(y_true), 'float32')\n",
        "    #y_pred_f = K.flatten(y_pred)\n",
        "    a = tf.cast(tf.constant(10),'float32')\n",
        "    b = tf.reduce_sum(y_true)\n",
        "    return tf.cond(b < a, lambda: more_loss(y_true, y_pred), lambda: bce_dice_loss(y_true, y_pred))"
      ],
      "execution_count": 0,
      "outputs": [
        {
          "output_type": "stream",
          "text": [
            "Using TensorFlow backend.\n"
          ],
          "name": "stderr"
        }
      ]
    },
    {
      "cell_type": "markdown",
      "metadata": {
        "id": "60YQQn87zd0q",
        "colab_type": "text"
      },
      "source": [
        "load model directly"
      ]
    },
    {
      "cell_type": "code",
      "metadata": {
        "id": "wqWXXePiymxQ",
        "colab_type": "code",
        "outputId": "f9f8b996-4f59-4140-dab6-240a0d42776f",
        "colab": {
          "base_uri": "https://localhost:8080/",
          "height": 108
        }
      },
      "source": [
        "from keras.models import load_model\n",
        "model = load_model(\"dlinknet_simple5.h5\", custom_objects = {\"dice_loss\":dice_loss,\"dice_coef\":dice_coef, \"bce_dice_loss\": bce_dice_loss})\n",
        "print('successfully loading')"
      ],
      "execution_count": 0,
      "outputs": [
        {
          "output_type": "stream",
          "text": [
            "WARNING:tensorflow:From /usr/local/lib/python3.6/dist-packages/tensorflow/python/ops/math_ops.py:3066: to_int32 (from tensorflow.python.ops.math_ops) is deprecated and will be removed in a future version.\n",
            "Instructions for updating:\n",
            "Use tf.cast instead.\n",
            "successfully loading\n"
          ],
          "name": "stdout"
        }
      ]
    },
    {
      "cell_type": "markdown",
      "metadata": {
        "id": "KP1OXsUx3CgC",
        "colab_type": "text"
      },
      "source": [
        "using weights to upload model, set dropout ratio to zero\n",
        "\n",
        "---\n",
        "\n",
        "\n",
        "\n",
        "---\n",
        "\n",
        "\n",
        "\n",
        "---\n",
        "\n",
        "\n",
        "\n",
        "---\n",
        "\n"
      ]
    },
    {
      "cell_type": "markdown",
      "metadata": {
        "id": "v3hYO-53BfEB",
        "colab_type": "text"
      },
      "source": [
        "install pydensecrf"
      ]
    },
    {
      "cell_type": "markdown",
      "metadata": {
        "id": "lOHCptGeB4hG",
        "colab_type": "text"
      },
      "source": [
        "crf function"
      ]
    },
    {
      "cell_type": "markdown",
      "metadata": {
        "id": "941xWYi-Bw2z",
        "colab_type": "text"
      },
      "source": [
        "crf hyperparameters grid search"
      ]
    },
    {
      "cell_type": "markdown",
      "metadata": {
        "id": "93-Ftc9zzpas",
        "colab_type": "text"
      },
      "source": [
        "simple testing process"
      ]
    },
    {
      "cell_type": "code",
      "metadata": {
        "id": "-2dDQshn3Hqs",
        "colab_type": "code",
        "outputId": "d1ec7367-a1c4-4fd2-f053-ecb495e3e944",
        "colab": {
          "base_uri": "https://localhost:8080/",
          "height": 52
        }
      },
      "source": [
        "from skimage.transform import resize\n",
        "from skimage.io import imread\n",
        "import numpy as np\n",
        "\n",
        "images_ids = []\n",
        "predictions = []\n",
        "zero_ids = []\n",
        "areas = []\n",
        "count = 0\n",
        "id_lists = ['70552','71316','75490','76508','78353','76275','69046','73731','71399','71421','71779','75205','76118','76275','76508','76584','79182']\n",
        "for i in range(len(test_img_paths)):\n",
        "  test_img_path = test_img_paths[i]\n",
        "  test_img = imread(test_img_path)\n",
        "  test_id = get_img_id(test_img_path)\n",
        "  images_ids.append(test_id)\n",
        "  #preprocessing\n",
        "  #test_img = resize(test_img, (256,256))\n",
        "  test_img = test_img/255\n",
        "  test_img = np.expand_dims(test_img, axis = 0)\n",
        "  pred = model.predict(test_img)\n",
        "  pred = pred[0,:,:,0]\n",
        "  #pred = resize(pred, (512,512))\n",
        "  pred = pred >= 0.5\n",
        "  area = np.sum(pred)\n",
        "  if area < 5:\n",
        "    count += 1\n",
        "  if area < 200:\n",
        "    pred = np.zeros((512,512))\n",
        "    pred = pred >= 0.5\n",
        "  if test_id in id_lists:\n",
        "    pred = np.zeros((512,512))\n",
        "    pred = pred >= 0.5\n",
        "  predictions.append(pred)\n",
        "  #pred_cast = K.eval(tf.reduce_sum(tf.cast(pred, 'float32')))\n",
        "  #areas.append(pred_cast)\n",
        "  #if pred_cast < 1:\n",
        "  #zero_ids.append(test_id)\n",
        "  #if i%300 == 0:\n",
        "    #print(i)\n",
        "print('simple test is done')\n",
        "print(count)"
      ],
      "execution_count": 0,
      "outputs": [
        {
          "output_type": "stream",
          "text": [
            "simple test is done\n",
            "394\n"
          ],
          "name": "stdout"
        }
      ]
    },
    {
      "cell_type": "markdown",
      "metadata": {
        "id": "6ozBogCKUSRM",
        "colab_type": "text"
      },
      "source": [
        "crf based prediction"
      ]
    },
    {
      "cell_type": "markdown",
      "metadata": {
        "id": "LVvnYaYQ1Szd",
        "colab_type": "text"
      },
      "source": [
        "to test the resize effect, we resize mask to 256, and resize back to 512, find the difference with mask truth. so we can see around 0.05 dice score is lost in simple resize process"
      ]
    },
    {
      "cell_type": "markdown",
      "metadata": {
        "id": "d9BptPPGbRlM",
        "colab_type": "text"
      },
      "source": [
        "transform test image (flip, rot, bright, dark)and get all the corresponding predictions, get the average for final predict mask"
      ]
    },
    {
      "cell_type": "markdown",
      "metadata": {
        "id": "IsPcjJxcZx7y",
        "colab_type": "text"
      },
      "source": [
        "use opening and closing to treat pre-mask, to fine tune mask"
      ]
    },
    {
      "cell_type": "markdown",
      "metadata": {
        "id": "v9xkLUK0TvXd",
        "colab_type": "text"
      },
      "source": [
        "combine test image aug and binary opening and closing together for testing"
      ]
    },
    {
      "cell_type": "markdown",
      "metadata": {
        "id": "34zdTYVLzuEb",
        "colab_type": "text"
      },
      "source": [
        "rle conversion"
      ]
    },
    {
      "cell_type": "code",
      "metadata": {
        "id": "ISwnRt0bzHBc",
        "colab_type": "code",
        "colab": {}
      },
      "source": [
        "import pandas as pd\n",
        "def create_submission(csv_name, predictions, image_ids):\n",
        "    \"\"\"\n",
        "    csv_name -> string for csv (\"XXXXXXX.csv\")\n",
        "    predictions -> numpyarray of size (num_examples, height, width)\n",
        "                In this case (num_examples, 512, 512)\n",
        "    image_ids -> numpyarray or list of size (num_examples,)\n",
        "    \n",
        "    predictions[i] should be the prediction of road for image_id[i]\n",
        "    \"\"\"\n",
        "    sub = pd.DataFrame()\n",
        "    sub['ImageId'] = image_ids\n",
        "    encodings = []\n",
        "    num_images = len(image_ids)\n",
        "    for i in range(num_images):\n",
        "        if (i+1) % (num_images//10) == 0:\n",
        "            print(i, num_images)\n",
        "        encodings.append(rle_encoding(predictions[i]))\n",
        "        \n",
        "    sub['EncodedPixels'] = encodings\n",
        "    #sub['Height'] = [512]*num_images Nonger needed for DICE Scoring\n",
        "    #sub['Width'] = [512]*num_images Nonger needed for DICE Scoring\n",
        "    sub.to_csv(csv_name, index=False)\n",
        "\n",
        "    \n",
        "    \n",
        "    \n",
        "\n",
        "# Run-length encoding stolen from https://www.kaggle.com/rakhlin/fast-run-length-encoding-python\n",
        "def rle_encoding(x):\n",
        "    \"\"\"\n",
        "    x = numpyarray of size (height, width) representing the mask of an image\n",
        "    if x[i,j] == 0:\n",
        "        image[i,j] is not a road pixel\n",
        "    if x[i,j] != 0:\n",
        "        image[i,j] is a road pixel\n",
        "    \"\"\"\n",
        "    dots = np.where(x.T.flatten() != 0)[0]\n",
        "    run_lengths = []\n",
        "    prev = -2\n",
        "    for b in dots:\n",
        "        if (b>prev+1): \n",
        "            run_lengths.extend((b+1, 0))\n",
        "        run_lengths[-1] += 1\n",
        "        prev = b\n",
        "    return run_lengths"
      ],
      "execution_count": 0,
      "outputs": []
    },
    {
      "cell_type": "markdown",
      "metadata": {
        "id": "gkSLxUM3zsZK",
        "colab_type": "text"
      },
      "source": [
        "run rle "
      ]
    },
    {
      "cell_type": "code",
      "metadata": {
        "id": "0Gsx0GsKzIIT",
        "colab_type": "code",
        "outputId": "d30c4c4c-2e81-49f9-ed82-aaf670d2cf2a",
        "colab": {
          "base_uri": "https://localhost:8080/",
          "height": 212
        }
      },
      "source": [
        "import numpy as np\n",
        "create_submission('feng_dlinknet_1.csv', np.array(predictions), np.array(images_ids))\n",
        "print('test is done')"
      ],
      "execution_count": 0,
      "outputs": [
        {
          "output_type": "stream",
          "text": [
            "215 2169\n",
            "431 2169\n",
            "647 2169\n",
            "863 2169\n",
            "1079 2169\n",
            "1295 2169\n",
            "1511 2169\n",
            "1727 2169\n",
            "1943 2169\n",
            "2159 2169\n",
            "test is done\n"
          ],
          "name": "stdout"
        }
      ]
    },
    {
      "cell_type": "code",
      "metadata": {
        "id": "o4soQ9pTX_hK",
        "colab_type": "code",
        "colab": {}
      },
      "source": [
        ""
      ],
      "execution_count": 0,
      "outputs": []
    }
  ]
}